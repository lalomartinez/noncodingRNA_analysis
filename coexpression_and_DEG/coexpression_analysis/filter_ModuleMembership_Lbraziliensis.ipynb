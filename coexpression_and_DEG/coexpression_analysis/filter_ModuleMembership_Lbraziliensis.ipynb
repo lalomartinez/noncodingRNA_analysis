{
 "cells": [
  {
   "cell_type": "code",
   "execution_count": 1,
   "id": "93ac519f-c62e-483f-8c74-47447aa9a632",
   "metadata": {},
   "outputs": [
    {
     "data": {
      "text/html": [
       "<ol>\n",
       "\t<li>TRUE</li>\n",
       "\t<li>TRUE</li>\n",
       "\t<li>TRUE</li>\n",
       "\t<li>TRUE</li>\n",
       "\t<li>TRUE</li>\n",
       "\t<li>TRUE</li>\n",
       "</ol>\n"
      ],
      "text/latex": [
       "\\begin{enumerate}\n",
       "\\item TRUE\n",
       "\\item TRUE\n",
       "\\item TRUE\n",
       "\\item TRUE\n",
       "\\item TRUE\n",
       "\\item TRUE\n",
       "\\end{enumerate}\n"
      ],
      "text/markdown": [
       "1. TRUE\n",
       "2. TRUE\n",
       "3. TRUE\n",
       "4. TRUE\n",
       "5. TRUE\n",
       "6. TRUE\n",
       "\n",
       "\n"
      ],
      "text/plain": [
       "[[1]]\n",
       "[1] TRUE\n",
       "\n",
       "[[2]]\n",
       "[1] TRUE\n",
       "\n",
       "[[3]]\n",
       "[1] TRUE\n",
       "\n",
       "[[4]]\n",
       "[1] TRUE\n",
       "\n",
       "[[5]]\n",
       "[1] TRUE\n",
       "\n",
       "[[6]]\n",
       "[1] TRUE\n"
      ]
     },
     "metadata": {},
     "output_type": "display_data"
    }
   ],
   "source": [
    "libraries<-c(\"reshape\",\"reshape2\",\"ggthemes\",\"tidyverse\",\"data.table\",\"stringr\")\n",
    "suppressPackageStartupMessages(lapply(libraries, require, character.only = TRUE))"
   ]
  },
  {
   "cell_type": "code",
   "execution_count": 2,
   "id": "25b01c67-d06a-40c8-a903-15433d87ea53",
   "metadata": {},
   "outputs": [],
   "source": [
    "# crear carpetas para datos output y setear directorio de trabajo para Lbraziliensis \n",
    "\n",
    "path_lbra<-\"/media/eduardo/D1/ncRNAs_Leishmania_spp/RNAseq/Lbraziliensis/analysis/06_WGCNA/unsigned/tables/\"\n",
    "\n",
    "setwd(path_lbra)"
   ]
  },
  {
   "cell_type": "code",
   "execution_count": 3,
   "id": "09901d5a-3086-4f3f-b92f-fae077d1be2d",
   "metadata": {},
   "outputs": [],
   "source": [
    "#cargar datos\n",
    "module_membership <- read.delim(\"geneModuleMembership.csv\", sep ='\\t', header=TRUE)\n",
    "module_significance <- read.delim(\"PvaluegeneModuleMembership.csv\", sep='\\t', header= TRUE) "
   ]
  },
  {
   "cell_type": "code",
   "execution_count": 4,
   "id": "1f8e7c5d-ecb0-405b-80b9-b784cb243ab8",
   "metadata": {},
   "outputs": [],
   "source": [
    "#generar columna geneid con los nombres de los genes derivado del rownames de cada archivo \n",
    "module_membership$geneid<-rownames(module_membership)\n",
    "module_significance$geneid<-rownames(module_significance)"
   ]
  },
  {
   "cell_type": "code",
   "execution_count": 5,
   "id": "abf86cb5-5219-4b3f-922c-085c60170c30",
   "metadata": {},
   "outputs": [],
   "source": [
    "mm_melted<-reshape2::melt(module_membership,id.vars = \"geneid\")"
   ]
  },
  {
   "cell_type": "code",
   "execution_count": 6,
   "id": "bad6508b-e573-49bd-a159-9b4f683f0d47",
   "metadata": {},
   "outputs": [],
   "source": [
    "colnames(mm_melted)<-c(\"geneid\",\"module\",\"mm\")"
   ]
  },
  {
   "cell_type": "code",
   "execution_count": 7,
   "id": "159e5b22-0a55-417d-9426-3b520373895e",
   "metadata": {},
   "outputs": [],
   "source": [
    "mmsig_melted<-reshape2::melt(module_significance,id.vars = \"geneid\")"
   ]
  },
  {
   "cell_type": "code",
   "execution_count": 8,
   "id": "f347bae2-4a58-442c-97ef-9fbfb59e39f9",
   "metadata": {},
   "outputs": [],
   "source": [
    "colnames(mmsig_melted)<-c(\"geneid\",\"module\",\"p_mm\")"
   ]
  },
  {
   "cell_type": "code",
   "execution_count": 9,
   "id": "a8a1bd5f-9b56-4996-91c5-ccd08c0593b1",
   "metadata": {},
   "outputs": [],
   "source": [
    "mmsig_melted$module <- gsub(\"p.\", \"\", mmsig_melted$module, fixed = TRUE)\n"
   ]
  },
  {
   "cell_type": "code",
   "execution_count": 10,
   "id": "b111af06-d2a4-41f4-b4fc-582b2022ea91",
   "metadata": {},
   "outputs": [
    {
     "data": {
      "text/html": [
       "<table class=\"dataframe\">\n",
       "<caption>A data.frame: 6 × 3</caption>\n",
       "<thead>\n",
       "\t<tr><th></th><th scope=col>geneid</th><th scope=col>module</th><th scope=col>mm</th></tr>\n",
       "\t<tr><th></th><th scope=col>&lt;chr&gt;</th><th scope=col>&lt;fct&gt;</th><th scope=col>&lt;dbl&gt;</th></tr>\n",
       "</thead>\n",
       "<tbody>\n",
       "\t<tr><th scope=row>1</th><td>LbrM.10.1540.1</td><td>MMblue</td><td>0.7351566</td></tr>\n",
       "\t<tr><th scope=row>2</th><td>ncRNA00001    </td><td>MMblue</td><td>0.8294405</td></tr>\n",
       "\t<tr><th scope=row>3</th><td>LbrM.10.1550.1</td><td>MMblue</td><td>0.9191505</td></tr>\n",
       "\t<tr><th scope=row>4</th><td>LbrM.10.1560.1</td><td>MMblue</td><td>0.8873347</td></tr>\n",
       "\t<tr><th scope=row>5</th><td>LbrM.10.1570.1</td><td>MMblue</td><td>0.7962717</td></tr>\n",
       "\t<tr><th scope=row>6</th><td>LbrM.10.1580.1</td><td>MMblue</td><td>0.7319801</td></tr>\n",
       "</tbody>\n",
       "</table>\n"
      ],
      "text/latex": [
       "A data.frame: 6 × 3\n",
       "\\begin{tabular}{r|lll}\n",
       "  & geneid & module & mm\\\\\n",
       "  & <chr> & <fct> & <dbl>\\\\\n",
       "\\hline\n",
       "\t1 & LbrM.10.1540.1 & MMblue & 0.7351566\\\\\n",
       "\t2 & ncRNA00001     & MMblue & 0.8294405\\\\\n",
       "\t3 & LbrM.10.1550.1 & MMblue & 0.9191505\\\\\n",
       "\t4 & LbrM.10.1560.1 & MMblue & 0.8873347\\\\\n",
       "\t5 & LbrM.10.1570.1 & MMblue & 0.7962717\\\\\n",
       "\t6 & LbrM.10.1580.1 & MMblue & 0.7319801\\\\\n",
       "\\end{tabular}\n"
      ],
      "text/markdown": [
       "\n",
       "A data.frame: 6 × 3\n",
       "\n",
       "| <!--/--> | geneid &lt;chr&gt; | module &lt;fct&gt; | mm &lt;dbl&gt; |\n",
       "|---|---|---|---|\n",
       "| 1 | LbrM.10.1540.1 | MMblue | 0.7351566 |\n",
       "| 2 | ncRNA00001     | MMblue | 0.8294405 |\n",
       "| 3 | LbrM.10.1550.1 | MMblue | 0.9191505 |\n",
       "| 4 | LbrM.10.1560.1 | MMblue | 0.8873347 |\n",
       "| 5 | LbrM.10.1570.1 | MMblue | 0.7962717 |\n",
       "| 6 | LbrM.10.1580.1 | MMblue | 0.7319801 |\n",
       "\n"
      ],
      "text/plain": [
       "  geneid         module mm       \n",
       "1 LbrM.10.1540.1 MMblue 0.7351566\n",
       "2 ncRNA00001     MMblue 0.8294405\n",
       "3 LbrM.10.1550.1 MMblue 0.9191505\n",
       "4 LbrM.10.1560.1 MMblue 0.8873347\n",
       "5 LbrM.10.1570.1 MMblue 0.7962717\n",
       "6 LbrM.10.1580.1 MMblue 0.7319801"
      ]
     },
     "metadata": {},
     "output_type": "display_data"
    },
    {
     "data": {
      "text/html": [
       "<table class=\"dataframe\">\n",
       "<caption>A data.frame: 6 × 3</caption>\n",
       "<thead>\n",
       "\t<tr><th></th><th scope=col>geneid</th><th scope=col>module</th><th scope=col>p_mm</th></tr>\n",
       "\t<tr><th></th><th scope=col>&lt;chr&gt;</th><th scope=col>&lt;chr&gt;</th><th scope=col>&lt;dbl&gt;</th></tr>\n",
       "</thead>\n",
       "<tbody>\n",
       "\t<tr><th scope=row>1</th><td>LbrM.10.1540.1</td><td>MMblue</td><td>3.284422e-07</td></tr>\n",
       "\t<tr><th scope=row>2</th><td>ncRNA00001    </td><td>MMblue</td><td>4.075737e-10</td></tr>\n",
       "\t<tr><th scope=row>3</th><td>LbrM.10.1550.1</td><td>MMblue</td><td>2.575113e-15</td></tr>\n",
       "\t<tr><th scope=row>4</th><td>LbrM.10.1560.1</td><td>MMblue</td><td>5.643965e-13</td></tr>\n",
       "\t<tr><th scope=row>5</th><td>LbrM.10.1570.1</td><td>MMblue</td><td>6.359547e-09</td></tr>\n",
       "\t<tr><th scope=row>6</th><td>LbrM.10.1580.1</td><td>MMblue</td><td>3.914348e-07</td></tr>\n",
       "</tbody>\n",
       "</table>\n"
      ],
      "text/latex": [
       "A data.frame: 6 × 3\n",
       "\\begin{tabular}{r|lll}\n",
       "  & geneid & module & p\\_mm\\\\\n",
       "  & <chr> & <chr> & <dbl>\\\\\n",
       "\\hline\n",
       "\t1 & LbrM.10.1540.1 & MMblue & 3.284422e-07\\\\\n",
       "\t2 & ncRNA00001     & MMblue & 4.075737e-10\\\\\n",
       "\t3 & LbrM.10.1550.1 & MMblue & 2.575113e-15\\\\\n",
       "\t4 & LbrM.10.1560.1 & MMblue & 5.643965e-13\\\\\n",
       "\t5 & LbrM.10.1570.1 & MMblue & 6.359547e-09\\\\\n",
       "\t6 & LbrM.10.1580.1 & MMblue & 3.914348e-07\\\\\n",
       "\\end{tabular}\n"
      ],
      "text/markdown": [
       "\n",
       "A data.frame: 6 × 3\n",
       "\n",
       "| <!--/--> | geneid &lt;chr&gt; | module &lt;chr&gt; | p_mm &lt;dbl&gt; |\n",
       "|---|---|---|---|\n",
       "| 1 | LbrM.10.1540.1 | MMblue | 3.284422e-07 |\n",
       "| 2 | ncRNA00001     | MMblue | 4.075737e-10 |\n",
       "| 3 | LbrM.10.1550.1 | MMblue | 2.575113e-15 |\n",
       "| 4 | LbrM.10.1560.1 | MMblue | 5.643965e-13 |\n",
       "| 5 | LbrM.10.1570.1 | MMblue | 6.359547e-09 |\n",
       "| 6 | LbrM.10.1580.1 | MMblue | 3.914348e-07 |\n",
       "\n"
      ],
      "text/plain": [
       "  geneid         module p_mm        \n",
       "1 LbrM.10.1540.1 MMblue 3.284422e-07\n",
       "2 ncRNA00001     MMblue 4.075737e-10\n",
       "3 LbrM.10.1550.1 MMblue 2.575113e-15\n",
       "4 LbrM.10.1560.1 MMblue 5.643965e-13\n",
       "5 LbrM.10.1570.1 MMblue 6.359547e-09\n",
       "6 LbrM.10.1580.1 MMblue 3.914348e-07"
      ]
     },
     "metadata": {},
     "output_type": "display_data"
    }
   ],
   "source": [
    "head(mm_melted)\n",
    "head(mmsig_melted)"
   ]
  },
  {
   "cell_type": "code",
   "execution_count": 11,
   "id": "fae3f100-9665-4595-8baa-2523bf6ab531",
   "metadata": {},
   "outputs": [],
   "source": [
    "#merge tablas\n",
    "merged_mm <- merge(mm_melted, mmsig_melted, by = c(\"geneid\",\"module\"))"
   ]
  },
  {
   "cell_type": "code",
   "execution_count": 12,
   "id": "7ecfaf7c-1bcd-4cb8-a1ef-bbb7007d252c",
   "metadata": {},
   "outputs": [
    {
     "data": {
      "text/html": [
       "<table class=\"dataframe\">\n",
       "<caption>A data.frame: 6 × 4</caption>\n",
       "<thead>\n",
       "\t<tr><th></th><th scope=col>geneid</th><th scope=col>module</th><th scope=col>mm</th><th scope=col>p_mm</th></tr>\n",
       "\t<tr><th></th><th scope=col>&lt;chr&gt;</th><th scope=col>&lt;fct&gt;</th><th scope=col>&lt;dbl&gt;</th><th scope=col>&lt;dbl&gt;</th></tr>\n",
       "</thead>\n",
       "<tbody>\n",
       "\t<tr><th scope=row>1</th><td>LbrM.01.0010</td><td>MMblack      </td><td>-0.75861170</td><td>8.289862e-08</td></tr>\n",
       "\t<tr><th scope=row>2</th><td>LbrM.01.0010</td><td>MMblue       </td><td> 0.97555427</td><td>5.879095e-24</td></tr>\n",
       "\t<tr><th scope=row>3</th><td>LbrM.01.0010</td><td>MMbrown      </td><td>-0.88700060</td><td>5.919559e-13</td></tr>\n",
       "\t<tr><th scope=row>4</th><td>LbrM.01.0010</td><td>MMgreenyellow</td><td> 0.09378923</td><td>5.863884e-01</td></tr>\n",
       "\t<tr><th scope=row>5</th><td>LbrM.01.0010</td><td>MMgrey       </td><td>-0.12144884</td><td>4.804402e-01</td></tr>\n",
       "\t<tr><th scope=row>6</th><td>LbrM.01.0010</td><td>MMlightcyan  </td><td>-0.55398132</td><td>4.560779e-04</td></tr>\n",
       "</tbody>\n",
       "</table>\n"
      ],
      "text/latex": [
       "A data.frame: 6 × 4\n",
       "\\begin{tabular}{r|llll}\n",
       "  & geneid & module & mm & p\\_mm\\\\\n",
       "  & <chr> & <fct> & <dbl> & <dbl>\\\\\n",
       "\\hline\n",
       "\t1 & LbrM.01.0010 & MMblack       & -0.75861170 & 8.289862e-08\\\\\n",
       "\t2 & LbrM.01.0010 & MMblue        &  0.97555427 & 5.879095e-24\\\\\n",
       "\t3 & LbrM.01.0010 & MMbrown       & -0.88700060 & 5.919559e-13\\\\\n",
       "\t4 & LbrM.01.0010 & MMgreenyellow &  0.09378923 & 5.863884e-01\\\\\n",
       "\t5 & LbrM.01.0010 & MMgrey        & -0.12144884 & 4.804402e-01\\\\\n",
       "\t6 & LbrM.01.0010 & MMlightcyan   & -0.55398132 & 4.560779e-04\\\\\n",
       "\\end{tabular}\n"
      ],
      "text/markdown": [
       "\n",
       "A data.frame: 6 × 4\n",
       "\n",
       "| <!--/--> | geneid &lt;chr&gt; | module &lt;fct&gt; | mm &lt;dbl&gt; | p_mm &lt;dbl&gt; |\n",
       "|---|---|---|---|---|\n",
       "| 1 | LbrM.01.0010 | MMblack       | -0.75861170 | 8.289862e-08 |\n",
       "| 2 | LbrM.01.0010 | MMblue        |  0.97555427 | 5.879095e-24 |\n",
       "| 3 | LbrM.01.0010 | MMbrown       | -0.88700060 | 5.919559e-13 |\n",
       "| 4 | LbrM.01.0010 | MMgreenyellow |  0.09378923 | 5.863884e-01 |\n",
       "| 5 | LbrM.01.0010 | MMgrey        | -0.12144884 | 4.804402e-01 |\n",
       "| 6 | LbrM.01.0010 | MMlightcyan   | -0.55398132 | 4.560779e-04 |\n",
       "\n"
      ],
      "text/plain": [
       "  geneid       module        mm          p_mm        \n",
       "1 LbrM.01.0010 MMblack       -0.75861170 8.289862e-08\n",
       "2 LbrM.01.0010 MMblue         0.97555427 5.879095e-24\n",
       "3 LbrM.01.0010 MMbrown       -0.88700060 5.919559e-13\n",
       "4 LbrM.01.0010 MMgreenyellow  0.09378923 5.863884e-01\n",
       "5 LbrM.01.0010 MMgrey        -0.12144884 4.804402e-01\n",
       "6 LbrM.01.0010 MMlightcyan   -0.55398132 4.560779e-04"
      ]
     },
     "metadata": {},
     "output_type": "display_data"
    }
   ],
   "source": [
    "head(merged_mm)"
   ]
  },
  {
   "cell_type": "code",
   "execution_count": 13,
   "id": "cdaa1222-d9a9-4127-a6e3-a66a4a3b1429",
   "metadata": {},
   "outputs": [],
   "source": [
    "# filtro por (module membership) mm y pvalue mm\n",
    "filtered_mm<-subset(merged_mm, mm >= 0.85 & p_mm < 0.00001)"
   ]
  },
  {
   "cell_type": "code",
   "execution_count": 14,
   "id": "18ec9808-1df1-45da-a652-500b60f659ae",
   "metadata": {},
   "outputs": [
    {
     "data": {
      "text/html": [
       "<table class=\"dataframe\">\n",
       "<caption>A data.frame: 6 × 4</caption>\n",
       "<thead>\n",
       "\t<tr><th></th><th scope=col>geneid</th><th scope=col>module</th><th scope=col>mm</th><th scope=col>p_mm</th></tr>\n",
       "\t<tr><th></th><th scope=col>&lt;chr&gt;</th><th scope=col>&lt;fct&gt;</th><th scope=col>&lt;dbl&gt;</th><th scope=col>&lt;dbl&gt;</th></tr>\n",
       "</thead>\n",
       "<tbody>\n",
       "\t<tr><th scope=row>2</th><td>LbrM.01.0010</td><td>MMblue       </td><td>0.9755543</td><td>5.879095e-24</td></tr>\n",
       "\t<tr><th scope=row>13</th><td>LbrM.01.0020</td><td>MMbrown      </td><td>0.9113428</td><td>1.160894e-14</td></tr>\n",
       "\t<tr><th scope=row>22</th><td>LbrM.01.0030</td><td>MMblue       </td><td>0.9542145</td><td>2.143286e-19</td></tr>\n",
       "\t<tr><th scope=row>32</th><td>LbrM.01.0040</td><td>MMblue       </td><td>0.8982812</td><td>1.083191e-13</td></tr>\n",
       "\t<tr><th scope=row>72</th><td>LbrM.01.0080</td><td>MMblue       </td><td>0.9871573</td><td>1.136116e-28</td></tr>\n",
       "\t<tr><th scope=row>84</th><td>LbrM.01.0090</td><td>MMgreenyellow</td><td>0.9306824</td><td>2.059591e-16</td></tr>\n",
       "</tbody>\n",
       "</table>\n"
      ],
      "text/latex": [
       "A data.frame: 6 × 4\n",
       "\\begin{tabular}{r|llll}\n",
       "  & geneid & module & mm & p\\_mm\\\\\n",
       "  & <chr> & <fct> & <dbl> & <dbl>\\\\\n",
       "\\hline\n",
       "\t2 & LbrM.01.0010 & MMblue        & 0.9755543 & 5.879095e-24\\\\\n",
       "\t13 & LbrM.01.0020 & MMbrown       & 0.9113428 & 1.160894e-14\\\\\n",
       "\t22 & LbrM.01.0030 & MMblue        & 0.9542145 & 2.143286e-19\\\\\n",
       "\t32 & LbrM.01.0040 & MMblue        & 0.8982812 & 1.083191e-13\\\\\n",
       "\t72 & LbrM.01.0080 & MMblue        & 0.9871573 & 1.136116e-28\\\\\n",
       "\t84 & LbrM.01.0090 & MMgreenyellow & 0.9306824 & 2.059591e-16\\\\\n",
       "\\end{tabular}\n"
      ],
      "text/markdown": [
       "\n",
       "A data.frame: 6 × 4\n",
       "\n",
       "| <!--/--> | geneid &lt;chr&gt; | module &lt;fct&gt; | mm &lt;dbl&gt; | p_mm &lt;dbl&gt; |\n",
       "|---|---|---|---|---|\n",
       "| 2 | LbrM.01.0010 | MMblue        | 0.9755543 | 5.879095e-24 |\n",
       "| 13 | LbrM.01.0020 | MMbrown       | 0.9113428 | 1.160894e-14 |\n",
       "| 22 | LbrM.01.0030 | MMblue        | 0.9542145 | 2.143286e-19 |\n",
       "| 32 | LbrM.01.0040 | MMblue        | 0.8982812 | 1.083191e-13 |\n",
       "| 72 | LbrM.01.0080 | MMblue        | 0.9871573 | 1.136116e-28 |\n",
       "| 84 | LbrM.01.0090 | MMgreenyellow | 0.9306824 | 2.059591e-16 |\n",
       "\n"
      ],
      "text/plain": [
       "   geneid       module        mm        p_mm        \n",
       "2  LbrM.01.0010 MMblue        0.9755543 5.879095e-24\n",
       "13 LbrM.01.0020 MMbrown       0.9113428 1.160894e-14\n",
       "22 LbrM.01.0030 MMblue        0.9542145 2.143286e-19\n",
       "32 LbrM.01.0040 MMblue        0.8982812 1.083191e-13\n",
       "72 LbrM.01.0080 MMblue        0.9871573 1.136116e-28\n",
       "84 LbrM.01.0090 MMgreenyellow 0.9306824 2.059591e-16"
      ]
     },
     "metadata": {},
     "output_type": "display_data"
    }
   ],
   "source": [
    "head(filtered_mm)"
   ]
  },
  {
   "cell_type": "code",
   "execution_count": 15,
   "id": "5f8b028d-1ae2-4854-8c4a-528009a801f8",
   "metadata": {},
   "outputs": [],
   "source": [
    "#ingresar archivos gs de wgcna por tratamiento\n",
    "#GS Amastigote\n",
    "gs_ama<-read.delim(\"geneTraitSignificance_amastigote.csv\",sep = '\\t', header=TRUE)\n",
    "gsp_ama<-read.delim(\"GeneSignificancePvalue_amastigote.csv\",sep = '\\t', header=TRUE)"
   ]
  },
  {
   "cell_type": "code",
   "execution_count": 16,
   "id": "4301e3b6-da0c-4e54-945e-c33c5eba1dba",
   "metadata": {},
   "outputs": [],
   "source": [
    "#generar columna geneid con los nombres de los genes derivado del rownames de cada archivo \n",
    "gs_ama$geneid<-rownames(gs_ama)\n",
    "gsp_ama$geneid<-rownames(gsp_ama)"
   ]
  },
  {
   "cell_type": "code",
   "execution_count": 17,
   "id": "6f018677-62d7-4d4d-bd48-83a9ab94de98",
   "metadata": {},
   "outputs": [],
   "source": [
    "#tabla merged con datos gs y gsp\n",
    "merged_gs_ama <- merge(gs_ama,gsp_ama, by = \"geneid\")"
   ]
  },
  {
   "cell_type": "code",
   "execution_count": 18,
   "id": "65a4286d-4da4-4510-bba5-790fe8657d0c",
   "metadata": {},
   "outputs": [
    {
     "data": {
      "text/html": [
       "<table class=\"dataframe\">\n",
       "<caption>A data.frame: 6 × 3</caption>\n",
       "<thead>\n",
       "\t<tr><th></th><th scope=col>geneid</th><th scope=col>GS.Amastigote</th><th scope=col>p.GS.Amastigote</th></tr>\n",
       "\t<tr><th></th><th scope=col>&lt;chr&gt;</th><th scope=col>&lt;dbl&gt;</th><th scope=col>&lt;dbl&gt;</th></tr>\n",
       "</thead>\n",
       "<tbody>\n",
       "\t<tr><th scope=row>1</th><td>LbrM.01.0010</td><td> 0.8702906</td><td>5.401656e-12</td></tr>\n",
       "\t<tr><th scope=row>2</th><td>LbrM.01.0020</td><td>-0.4225061</td><td>1.025710e-02</td></tr>\n",
       "\t<tr><th scope=row>3</th><td>LbrM.01.0030</td><td> 0.9757341</td><td>5.192608e-24</td></tr>\n",
       "\t<tr><th scope=row>4</th><td>LbrM.01.0040</td><td> 0.7869909</td><td>1.255301e-08</td></tr>\n",
       "\t<tr><th scope=row>5</th><td>LbrM.01.0050</td><td> 0.7779002</td><td>2.367366e-08</td></tr>\n",
       "\t<tr><th scope=row>6</th><td>LbrM.01.0060</td><td> 0.7863298</td><td>1.315919e-08</td></tr>\n",
       "</tbody>\n",
       "</table>\n"
      ],
      "text/latex": [
       "A data.frame: 6 × 3\n",
       "\\begin{tabular}{r|lll}\n",
       "  & geneid & GS.Amastigote & p.GS.Amastigote\\\\\n",
       "  & <chr> & <dbl> & <dbl>\\\\\n",
       "\\hline\n",
       "\t1 & LbrM.01.0010 &  0.8702906 & 5.401656e-12\\\\\n",
       "\t2 & LbrM.01.0020 & -0.4225061 & 1.025710e-02\\\\\n",
       "\t3 & LbrM.01.0030 &  0.9757341 & 5.192608e-24\\\\\n",
       "\t4 & LbrM.01.0040 &  0.7869909 & 1.255301e-08\\\\\n",
       "\t5 & LbrM.01.0050 &  0.7779002 & 2.367366e-08\\\\\n",
       "\t6 & LbrM.01.0060 &  0.7863298 & 1.315919e-08\\\\\n",
       "\\end{tabular}\n"
      ],
      "text/markdown": [
       "\n",
       "A data.frame: 6 × 3\n",
       "\n",
       "| <!--/--> | geneid &lt;chr&gt; | GS.Amastigote &lt;dbl&gt; | p.GS.Amastigote &lt;dbl&gt; |\n",
       "|---|---|---|---|\n",
       "| 1 | LbrM.01.0010 |  0.8702906 | 5.401656e-12 |\n",
       "| 2 | LbrM.01.0020 | -0.4225061 | 1.025710e-02 |\n",
       "| 3 | LbrM.01.0030 |  0.9757341 | 5.192608e-24 |\n",
       "| 4 | LbrM.01.0040 |  0.7869909 | 1.255301e-08 |\n",
       "| 5 | LbrM.01.0050 |  0.7779002 | 2.367366e-08 |\n",
       "| 6 | LbrM.01.0060 |  0.7863298 | 1.315919e-08 |\n",
       "\n"
      ],
      "text/plain": [
       "  geneid       GS.Amastigote p.GS.Amastigote\n",
       "1 LbrM.01.0010  0.8702906    5.401656e-12   \n",
       "2 LbrM.01.0020 -0.4225061    1.025710e-02   \n",
       "3 LbrM.01.0030  0.9757341    5.192608e-24   \n",
       "4 LbrM.01.0040  0.7869909    1.255301e-08   \n",
       "5 LbrM.01.0050  0.7779002    2.367366e-08   \n",
       "6 LbrM.01.0060  0.7863298    1.315919e-08   "
      ]
     },
     "metadata": {},
     "output_type": "display_data"
    }
   ],
   "source": [
    "head(merged_gs_ama)"
   ]
  },
  {
   "cell_type": "code",
   "execution_count": 19,
   "id": "ffa4e717-5f95-48c9-b551-d61871f4e936",
   "metadata": {},
   "outputs": [],
   "source": [
    "#filtros estadísticos\n",
    "filtered_ama<-subset(merged_gs_ama, GS.Amastigote >= 0.7 & p.GS.Amastigote < 0.01)"
   ]
  },
  {
   "cell_type": "code",
   "execution_count": 20,
   "id": "e32ef299-f4a9-4601-814e-e4e87bdbe2b2",
   "metadata": {},
   "outputs": [],
   "source": [
    "#tabla merged entre la tabla anterior filtrada y datos de membership. 6columns\n",
    "ama_genes <- merge(filtered_ama,filtered_mm, by = \"geneid\")"
   ]
  },
  {
   "cell_type": "code",
   "execution_count": 21,
   "id": "7030aca4-8eaa-4c1b-aa13-11ecb6fb73cf",
   "metadata": {},
   "outputs": [
    {
     "data": {
      "text/html": [
       "<table class=\"dataframe\">\n",
       "<caption>A data.frame: 1070 × 6</caption>\n",
       "<thead>\n",
       "\t<tr><th scope=col>geneid</th><th scope=col>GS.Amastigote</th><th scope=col>p.GS.Amastigote</th><th scope=col>module</th><th scope=col>mm</th><th scope=col>p_mm</th></tr>\n",
       "\t<tr><th scope=col>&lt;chr&gt;</th><th scope=col>&lt;dbl&gt;</th><th scope=col>&lt;dbl&gt;</th><th scope=col>&lt;fct&gt;</th><th scope=col>&lt;dbl&gt;</th><th scope=col>&lt;dbl&gt;</th></tr>\n",
       "</thead>\n",
       "<tbody>\n",
       "\t<tr><td>LbrM.01.0010                       </td><td>0.8702906</td><td>5.401656e-12</td><td>MMblue</td><td>0.9755543</td><td>5.879095e-24</td></tr>\n",
       "\t<tr><td>LbrM.01.0030                       </td><td>0.9757341</td><td>5.192608e-24</td><td>MMblue</td><td>0.9542145</td><td>2.143286e-19</td></tr>\n",
       "\t<tr><td>LbrM.01.0040                       </td><td>0.7869909</td><td>1.255301e-08</td><td>MMblue</td><td>0.8982812</td><td>1.083191e-13</td></tr>\n",
       "\t<tr><td>LbrM.01.0080                       </td><td>0.9192135</td><td>2.542495e-15</td><td>MMblue</td><td>0.9871573</td><td>1.136116e-28</td></tr>\n",
       "\t<tr><td>LbrM.01.0110                       </td><td>0.9321607</td><td>1.444215e-16</td><td>MMblue</td><td>0.8901305</td><td>3.764553e-13</td></tr>\n",
       "\t<tr><td>LbrM.01.0120                       </td><td>0.8844931</td><td>8.426758e-13</td><td>MMblue</td><td>0.8515175</td><td>4.621702e-11</td></tr>\n",
       "\t<tr><td>LbrM.01.0150                       </td><td>0.8819737</td><td>1.191891e-12</td><td>MMblue</td><td>0.8716156</td><td>4.584949e-12</td></tr>\n",
       "\t<tr><td>LbrM.01.0170                       </td><td>0.9215511</td><td>1.571910e-15</td><td>MMblue</td><td>0.8888010</td><td>4.570159e-13</td></tr>\n",
       "\t<tr><td>LbrM.01.0200                       </td><td>0.9433696</td><td>7.313685e-18</td><td>MMblue</td><td>0.9078005</td><td>2.197484e-14</td></tr>\n",
       "\t<tr><td>LbrM.01.0210                       </td><td>0.9821781</td><td>2.870993e-26</td><td>MMblue</td><td>0.9217828</td><td>1.497556e-15</td></tr>\n",
       "\t<tr><td>LbrM.01.0270                       </td><td>0.9214382</td><td>1.609395e-15</td><td>MMblue</td><td>0.9739769</td><td>1.681562e-23</td></tr>\n",
       "\t<tr><td>LbrM.01.0280                       </td><td>0.9334989</td><td>1.040082e-16</td><td>MMblue</td><td>0.9094716</td><td>1.631552e-14</td></tr>\n",
       "\t<tr><td>LbrM.01.0390                       </td><td>0.7587558</td><td>8.216158e-08</td><td>MMblue</td><td>0.9164696</td><td>4.390405e-15</td></tr>\n",
       "\t<tr><td>LbrM.01.0450                       </td><td>0.8732308</td><td>3.745234e-12</td><td>MMblue</td><td>0.9621860</td><td>8.819822e-21</td></tr>\n",
       "\t<tr><td>LbrM.01.0480                       </td><td>0.8958414</td><td>1.589668e-13</td><td>MMblue</td><td>0.9493477</td><td>1.149691e-18</td></tr>\n",
       "\t<tr><td>LbrM.01.0550                       </td><td>0.8587198</td><td>2.103663e-11</td><td>MMblue</td><td>0.9808395</td><td>9.734031e-26</td></tr>\n",
       "\t<tr><td>LbrM.01.0580                       </td><td>0.9208446</td><td>1.820631e-15</td><td>MMblue</td><td>0.8624545</td><td>1.374829e-11</td></tr>\n",
       "\t<tr><td>LbrM.01.0610                       </td><td>0.7467986</td><td>1.689434e-07</td><td>MMblue</td><td>0.9356806</td><td>6.000158e-17</td></tr>\n",
       "\t<tr><td>LbrM.01.0630                       </td><td>0.9095037</td><td>1.622139e-14</td><td>MMblue</td><td>0.9711712</td><td>9.383369e-23</td></tr>\n",
       "\t<tr><td>LbrM.01.0640                       </td><td>0.8821026</td><td>1.171164e-12</td><td>MMblue</td><td>0.8591072</td><td>2.014004e-11</td></tr>\n",
       "\t<tr><td>LbrM.01.0660                       </td><td>0.9799453</td><td>2.099313e-25</td><td>MMblue</td><td>0.9419290</td><td>1.108535e-17</td></tr>\n",
       "\t<tr><td>LbrM.01.0670                       </td><td>0.7963375</td><td>6.328184e-09</td><td>MMblue</td><td>0.9516099</td><td>5.380818e-19</td></tr>\n",
       "\t<tr><td>LbrM.01.0680                       </td><td>0.9140582</td><td>6.988734e-15</td><td>MMblue</td><td>0.9344438</td><td>8.215022e-17</td></tr>\n",
       "\t<tr><td>LbrM.01.0690                       </td><td>0.7478727</td><td>1.586077e-07</td><td>MMblue</td><td>0.8761315</td><td>2.586214e-12</td></tr>\n",
       "\t<tr><td>LbrM.01.0700                       </td><td>0.7315042</td><td>4.017767e-07</td><td>MMblue</td><td>0.9254298</td><td>6.842961e-16</td></tr>\n",
       "\t<tr><td>LbrM.01.0750                       </td><td>0.9476631</td><td>1.979094e-18</td><td>MMblue</td><td>0.8559684</td><td>2.855820e-11</td></tr>\n",
       "\t<tr><td>LbrM.01.0770                       </td><td>0.9844574</td><td>2.852466e-27</td><td>MMblue</td><td>0.9427748</td><td>8.695115e-18</td></tr>\n",
       "\t<tr><td>LbrM.01.0780:pseudogenic_transcript</td><td>0.9316495</td><td>1.634268e-16</td><td>MMblue</td><td>0.9566453</td><td>8.638996e-20</td></tr>\n",
       "\t<tr><td>LbrM.02.0110                       </td><td>0.7025627</td><td>1.783033e-06</td><td>MMblue</td><td>0.8968382</td><td>1.360621e-13</td></tr>\n",
       "\t<tr><td>LbrM.02.0120                       </td><td>0.8239594</td><td>6.671729e-10</td><td>MMblue</td><td>0.8922619</td><td>2.744328e-13</td></tr>\n",
       "\t<tr><td>⋮</td><td>⋮</td><td>⋮</td><td>⋮</td><td>⋮</td><td>⋮</td></tr>\n",
       "\t<tr><td>ncRNA13390</td><td>0.8754572</td><td>2.821028e-12</td><td>MMblue     </td><td>0.8971089</td><td>1.303995e-13</td></tr>\n",
       "\t<tr><td>ncRNA13412</td><td>0.9393124</td><td>2.297838e-17</td><td>MMblue     </td><td>0.8877838</td><td>5.292287e-13</td></tr>\n",
       "\t<tr><td>ncRNA13414</td><td>0.9272765</td><td>4.532832e-16</td><td>MMblue     </td><td>0.8786812</td><td>1.853365e-12</td></tr>\n",
       "\t<tr><td>ncRNA13581</td><td>0.8397677</td><td>1.533403e-10</td><td>MMblue     </td><td>0.8552331</td><td>3.095602e-11</td></tr>\n",
       "\t<tr><td>ncRNA13592</td><td>0.8722156</td><td>4.254397e-12</td><td>MMblue     </td><td>0.8508308</td><td>4.971126e-11</td></tr>\n",
       "\t<tr><td>ncRNA13731</td><td>0.8824818</td><td>1.112101e-12</td><td>MMblue     </td><td>0.9001954</td><td>7.961885e-14</td></tr>\n",
       "\t<tr><td>ncRNA13736</td><td>0.8678947</td><td>7.232771e-12</td><td>MMblue     </td><td>0.8665004</td><td>8.549784e-12</td></tr>\n",
       "\t<tr><td>ncRNA13793</td><td>0.9231312</td><td>1.126098e-15</td><td>MMblue     </td><td>0.9470302</td><td>2.415942e-18</td></tr>\n",
       "\t<tr><td>ncRNA13871</td><td>0.8730308</td><td>3.840828e-12</td><td>MMblue     </td><td>0.9125869</td><td>9.219454e-15</td></tr>\n",
       "\t<tr><td>ncRNA13875</td><td>0.9091272</td><td>1.735604e-14</td><td>MMblue     </td><td>0.9524804</td><td>3.978618e-19</td></tr>\n",
       "\t<tr><td>ncRNA14321</td><td>0.8199887</td><td>9.435438e-10</td><td>MMblue     </td><td>0.8920255</td><td>2.843185e-13</td></tr>\n",
       "\t<tr><td>ncRNA14324</td><td>0.7980768</td><td>5.549202e-09</td><td>MMblue     </td><td>0.8597719</td><td>1.868402e-11</td></tr>\n",
       "\t<tr><td>ncRNA14589</td><td>0.8094652</td><td>2.272911e-09</td><td>MMblue     </td><td>0.9072617</td><td>2.415995e-14</td></tr>\n",
       "\t<tr><td>ncRNA14590</td><td>0.8564353</td><td>2.712672e-11</td><td>MMblue     </td><td>0.9175721</td><td>3.533216e-15</td></tr>\n",
       "\t<tr><td>ncRNA14591</td><td>0.8617223</td><td>1.495859e-11</td><td>MMblue     </td><td>0.8647822</td><td>1.048022e-11</td></tr>\n",
       "\t<tr><td>ncRNA14701</td><td>0.9022451</td><td>5.686629e-14</td><td>MMblue     </td><td>0.9824888</td><td>2.133950e-26</td></tr>\n",
       "\t<tr><td>ncRNA15027</td><td>0.8679901</td><td>7.149926e-12</td><td>MMblue     </td><td>0.9066473</td><td>2.689983e-14</td></tr>\n",
       "\t<tr><td>ncRNA15215</td><td>0.8813522</td><td>1.296756e-12</td><td>MMblue     </td><td>0.8998850</td><td>8.373021e-14</td></tr>\n",
       "\t<tr><td>ncRNA15793</td><td>0.9379391</td><td>3.325719e-17</td><td>MMblue     </td><td>0.9213944</td><td>1.624177e-15</td></tr>\n",
       "\t<tr><td>ncRNA16125</td><td>0.8238250</td><td>6.751424e-10</td><td>MMblue     </td><td>0.8810792</td><td>1.345505e-12</td></tr>\n",
       "\t<tr><td>ncRNA16126</td><td>0.9504475</td><td>7.983610e-19</td><td>MMblue     </td><td>0.8928454</td><td>2.513938e-13</td></tr>\n",
       "\t<tr><td>ncRNA16400</td><td>0.7949102</td><td>7.041837e-09</td><td>MMblue     </td><td>0.8742286</td><td>3.300728e-12</td></tr>\n",
       "\t<tr><td>ncRNA16699</td><td>0.8338552</td><td>2.705554e-10</td><td>MMblue     </td><td>0.8902921</td><td>3.676274e-13</td></tr>\n",
       "\t<tr><td>ncRNA18337</td><td>0.7441580</td><td>1.970457e-07</td><td>MMroyalblue</td><td>0.9070618</td><td>2.502126e-14</td></tr>\n",
       "\t<tr><td>ncRNA18386</td><td>0.7821103</td><td>1.771277e-08</td><td>MMblue     </td><td>0.8649167</td><td>1.031566e-11</td></tr>\n",
       "\t<tr><td>ncRNA18584</td><td>0.7828208</td><td>1.685600e-08</td><td>MMblue     </td><td>0.8553466</td><td>3.057400e-11</td></tr>\n",
       "\t<tr><td>ncRNA19658</td><td>0.7642397</td><td>5.821479e-08</td><td>MMblue     </td><td>0.8793979</td><td>1.685393e-12</td></tr>\n",
       "\t<tr><td>ncRNA19783</td><td>0.8102429</td><td>2.133911e-09</td><td>MMblue     </td><td>0.8603878</td><td>1.742318e-11</td></tr>\n",
       "\t<tr><td>ncRNA19928</td><td>0.7297759</td><td>4.414844e-07</td><td>MMblue     </td><td>0.8665418</td><td>8.507665e-12</td></tr>\n",
       "\t<tr><td>ncRNA20118</td><td>0.8333131</td><td>2.846972e-10</td><td>MMblue     </td><td>0.8988251</td><td>9.930882e-14</td></tr>\n",
       "</tbody>\n",
       "</table>\n"
      ],
      "text/latex": [
       "A data.frame: 1070 × 6\n",
       "\\begin{tabular}{llllll}\n",
       " geneid & GS.Amastigote & p.GS.Amastigote & module & mm & p\\_mm\\\\\n",
       " <chr> & <dbl> & <dbl> & <fct> & <dbl> & <dbl>\\\\\n",
       "\\hline\n",
       "\t LbrM.01.0010                        & 0.8702906 & 5.401656e-12 & MMblue & 0.9755543 & 5.879095e-24\\\\\n",
       "\t LbrM.01.0030                        & 0.9757341 & 5.192608e-24 & MMblue & 0.9542145 & 2.143286e-19\\\\\n",
       "\t LbrM.01.0040                        & 0.7869909 & 1.255301e-08 & MMblue & 0.8982812 & 1.083191e-13\\\\\n",
       "\t LbrM.01.0080                        & 0.9192135 & 2.542495e-15 & MMblue & 0.9871573 & 1.136116e-28\\\\\n",
       "\t LbrM.01.0110                        & 0.9321607 & 1.444215e-16 & MMblue & 0.8901305 & 3.764553e-13\\\\\n",
       "\t LbrM.01.0120                        & 0.8844931 & 8.426758e-13 & MMblue & 0.8515175 & 4.621702e-11\\\\\n",
       "\t LbrM.01.0150                        & 0.8819737 & 1.191891e-12 & MMblue & 0.8716156 & 4.584949e-12\\\\\n",
       "\t LbrM.01.0170                        & 0.9215511 & 1.571910e-15 & MMblue & 0.8888010 & 4.570159e-13\\\\\n",
       "\t LbrM.01.0200                        & 0.9433696 & 7.313685e-18 & MMblue & 0.9078005 & 2.197484e-14\\\\\n",
       "\t LbrM.01.0210                        & 0.9821781 & 2.870993e-26 & MMblue & 0.9217828 & 1.497556e-15\\\\\n",
       "\t LbrM.01.0270                        & 0.9214382 & 1.609395e-15 & MMblue & 0.9739769 & 1.681562e-23\\\\\n",
       "\t LbrM.01.0280                        & 0.9334989 & 1.040082e-16 & MMblue & 0.9094716 & 1.631552e-14\\\\\n",
       "\t LbrM.01.0390                        & 0.7587558 & 8.216158e-08 & MMblue & 0.9164696 & 4.390405e-15\\\\\n",
       "\t LbrM.01.0450                        & 0.8732308 & 3.745234e-12 & MMblue & 0.9621860 & 8.819822e-21\\\\\n",
       "\t LbrM.01.0480                        & 0.8958414 & 1.589668e-13 & MMblue & 0.9493477 & 1.149691e-18\\\\\n",
       "\t LbrM.01.0550                        & 0.8587198 & 2.103663e-11 & MMblue & 0.9808395 & 9.734031e-26\\\\\n",
       "\t LbrM.01.0580                        & 0.9208446 & 1.820631e-15 & MMblue & 0.8624545 & 1.374829e-11\\\\\n",
       "\t LbrM.01.0610                        & 0.7467986 & 1.689434e-07 & MMblue & 0.9356806 & 6.000158e-17\\\\\n",
       "\t LbrM.01.0630                        & 0.9095037 & 1.622139e-14 & MMblue & 0.9711712 & 9.383369e-23\\\\\n",
       "\t LbrM.01.0640                        & 0.8821026 & 1.171164e-12 & MMblue & 0.8591072 & 2.014004e-11\\\\\n",
       "\t LbrM.01.0660                        & 0.9799453 & 2.099313e-25 & MMblue & 0.9419290 & 1.108535e-17\\\\\n",
       "\t LbrM.01.0670                        & 0.7963375 & 6.328184e-09 & MMblue & 0.9516099 & 5.380818e-19\\\\\n",
       "\t LbrM.01.0680                        & 0.9140582 & 6.988734e-15 & MMblue & 0.9344438 & 8.215022e-17\\\\\n",
       "\t LbrM.01.0690                        & 0.7478727 & 1.586077e-07 & MMblue & 0.8761315 & 2.586214e-12\\\\\n",
       "\t LbrM.01.0700                        & 0.7315042 & 4.017767e-07 & MMblue & 0.9254298 & 6.842961e-16\\\\\n",
       "\t LbrM.01.0750                        & 0.9476631 & 1.979094e-18 & MMblue & 0.8559684 & 2.855820e-11\\\\\n",
       "\t LbrM.01.0770                        & 0.9844574 & 2.852466e-27 & MMblue & 0.9427748 & 8.695115e-18\\\\\n",
       "\t LbrM.01.0780:pseudogenic\\_transcript & 0.9316495 & 1.634268e-16 & MMblue & 0.9566453 & 8.638996e-20\\\\\n",
       "\t LbrM.02.0110                        & 0.7025627 & 1.783033e-06 & MMblue & 0.8968382 & 1.360621e-13\\\\\n",
       "\t LbrM.02.0120                        & 0.8239594 & 6.671729e-10 & MMblue & 0.8922619 & 2.744328e-13\\\\\n",
       "\t ⋮ & ⋮ & ⋮ & ⋮ & ⋮ & ⋮\\\\\n",
       "\t ncRNA13390 & 0.8754572 & 2.821028e-12 & MMblue      & 0.8971089 & 1.303995e-13\\\\\n",
       "\t ncRNA13412 & 0.9393124 & 2.297838e-17 & MMblue      & 0.8877838 & 5.292287e-13\\\\\n",
       "\t ncRNA13414 & 0.9272765 & 4.532832e-16 & MMblue      & 0.8786812 & 1.853365e-12\\\\\n",
       "\t ncRNA13581 & 0.8397677 & 1.533403e-10 & MMblue      & 0.8552331 & 3.095602e-11\\\\\n",
       "\t ncRNA13592 & 0.8722156 & 4.254397e-12 & MMblue      & 0.8508308 & 4.971126e-11\\\\\n",
       "\t ncRNA13731 & 0.8824818 & 1.112101e-12 & MMblue      & 0.9001954 & 7.961885e-14\\\\\n",
       "\t ncRNA13736 & 0.8678947 & 7.232771e-12 & MMblue      & 0.8665004 & 8.549784e-12\\\\\n",
       "\t ncRNA13793 & 0.9231312 & 1.126098e-15 & MMblue      & 0.9470302 & 2.415942e-18\\\\\n",
       "\t ncRNA13871 & 0.8730308 & 3.840828e-12 & MMblue      & 0.9125869 & 9.219454e-15\\\\\n",
       "\t ncRNA13875 & 0.9091272 & 1.735604e-14 & MMblue      & 0.9524804 & 3.978618e-19\\\\\n",
       "\t ncRNA14321 & 0.8199887 & 9.435438e-10 & MMblue      & 0.8920255 & 2.843185e-13\\\\\n",
       "\t ncRNA14324 & 0.7980768 & 5.549202e-09 & MMblue      & 0.8597719 & 1.868402e-11\\\\\n",
       "\t ncRNA14589 & 0.8094652 & 2.272911e-09 & MMblue      & 0.9072617 & 2.415995e-14\\\\\n",
       "\t ncRNA14590 & 0.8564353 & 2.712672e-11 & MMblue      & 0.9175721 & 3.533216e-15\\\\\n",
       "\t ncRNA14591 & 0.8617223 & 1.495859e-11 & MMblue      & 0.8647822 & 1.048022e-11\\\\\n",
       "\t ncRNA14701 & 0.9022451 & 5.686629e-14 & MMblue      & 0.9824888 & 2.133950e-26\\\\\n",
       "\t ncRNA15027 & 0.8679901 & 7.149926e-12 & MMblue      & 0.9066473 & 2.689983e-14\\\\\n",
       "\t ncRNA15215 & 0.8813522 & 1.296756e-12 & MMblue      & 0.8998850 & 8.373021e-14\\\\\n",
       "\t ncRNA15793 & 0.9379391 & 3.325719e-17 & MMblue      & 0.9213944 & 1.624177e-15\\\\\n",
       "\t ncRNA16125 & 0.8238250 & 6.751424e-10 & MMblue      & 0.8810792 & 1.345505e-12\\\\\n",
       "\t ncRNA16126 & 0.9504475 & 7.983610e-19 & MMblue      & 0.8928454 & 2.513938e-13\\\\\n",
       "\t ncRNA16400 & 0.7949102 & 7.041837e-09 & MMblue      & 0.8742286 & 3.300728e-12\\\\\n",
       "\t ncRNA16699 & 0.8338552 & 2.705554e-10 & MMblue      & 0.8902921 & 3.676274e-13\\\\\n",
       "\t ncRNA18337 & 0.7441580 & 1.970457e-07 & MMroyalblue & 0.9070618 & 2.502126e-14\\\\\n",
       "\t ncRNA18386 & 0.7821103 & 1.771277e-08 & MMblue      & 0.8649167 & 1.031566e-11\\\\\n",
       "\t ncRNA18584 & 0.7828208 & 1.685600e-08 & MMblue      & 0.8553466 & 3.057400e-11\\\\\n",
       "\t ncRNA19658 & 0.7642397 & 5.821479e-08 & MMblue      & 0.8793979 & 1.685393e-12\\\\\n",
       "\t ncRNA19783 & 0.8102429 & 2.133911e-09 & MMblue      & 0.8603878 & 1.742318e-11\\\\\n",
       "\t ncRNA19928 & 0.7297759 & 4.414844e-07 & MMblue      & 0.8665418 & 8.507665e-12\\\\\n",
       "\t ncRNA20118 & 0.8333131 & 2.846972e-10 & MMblue      & 0.8988251 & 9.930882e-14\\\\\n",
       "\\end{tabular}\n"
      ],
      "text/markdown": [
       "\n",
       "A data.frame: 1070 × 6\n",
       "\n",
       "| geneid &lt;chr&gt; | GS.Amastigote &lt;dbl&gt; | p.GS.Amastigote &lt;dbl&gt; | module &lt;fct&gt; | mm &lt;dbl&gt; | p_mm &lt;dbl&gt; |\n",
       "|---|---|---|---|---|---|\n",
       "| LbrM.01.0010                        | 0.8702906 | 5.401656e-12 | MMblue | 0.9755543 | 5.879095e-24 |\n",
       "| LbrM.01.0030                        | 0.9757341 | 5.192608e-24 | MMblue | 0.9542145 | 2.143286e-19 |\n",
       "| LbrM.01.0040                        | 0.7869909 | 1.255301e-08 | MMblue | 0.8982812 | 1.083191e-13 |\n",
       "| LbrM.01.0080                        | 0.9192135 | 2.542495e-15 | MMblue | 0.9871573 | 1.136116e-28 |\n",
       "| LbrM.01.0110                        | 0.9321607 | 1.444215e-16 | MMblue | 0.8901305 | 3.764553e-13 |\n",
       "| LbrM.01.0120                        | 0.8844931 | 8.426758e-13 | MMblue | 0.8515175 | 4.621702e-11 |\n",
       "| LbrM.01.0150                        | 0.8819737 | 1.191891e-12 | MMblue | 0.8716156 | 4.584949e-12 |\n",
       "| LbrM.01.0170                        | 0.9215511 | 1.571910e-15 | MMblue | 0.8888010 | 4.570159e-13 |\n",
       "| LbrM.01.0200                        | 0.9433696 | 7.313685e-18 | MMblue | 0.9078005 | 2.197484e-14 |\n",
       "| LbrM.01.0210                        | 0.9821781 | 2.870993e-26 | MMblue | 0.9217828 | 1.497556e-15 |\n",
       "| LbrM.01.0270                        | 0.9214382 | 1.609395e-15 | MMblue | 0.9739769 | 1.681562e-23 |\n",
       "| LbrM.01.0280                        | 0.9334989 | 1.040082e-16 | MMblue | 0.9094716 | 1.631552e-14 |\n",
       "| LbrM.01.0390                        | 0.7587558 | 8.216158e-08 | MMblue | 0.9164696 | 4.390405e-15 |\n",
       "| LbrM.01.0450                        | 0.8732308 | 3.745234e-12 | MMblue | 0.9621860 | 8.819822e-21 |\n",
       "| LbrM.01.0480                        | 0.8958414 | 1.589668e-13 | MMblue | 0.9493477 | 1.149691e-18 |\n",
       "| LbrM.01.0550                        | 0.8587198 | 2.103663e-11 | MMblue | 0.9808395 | 9.734031e-26 |\n",
       "| LbrM.01.0580                        | 0.9208446 | 1.820631e-15 | MMblue | 0.8624545 | 1.374829e-11 |\n",
       "| LbrM.01.0610                        | 0.7467986 | 1.689434e-07 | MMblue | 0.9356806 | 6.000158e-17 |\n",
       "| LbrM.01.0630                        | 0.9095037 | 1.622139e-14 | MMblue | 0.9711712 | 9.383369e-23 |\n",
       "| LbrM.01.0640                        | 0.8821026 | 1.171164e-12 | MMblue | 0.8591072 | 2.014004e-11 |\n",
       "| LbrM.01.0660                        | 0.9799453 | 2.099313e-25 | MMblue | 0.9419290 | 1.108535e-17 |\n",
       "| LbrM.01.0670                        | 0.7963375 | 6.328184e-09 | MMblue | 0.9516099 | 5.380818e-19 |\n",
       "| LbrM.01.0680                        | 0.9140582 | 6.988734e-15 | MMblue | 0.9344438 | 8.215022e-17 |\n",
       "| LbrM.01.0690                        | 0.7478727 | 1.586077e-07 | MMblue | 0.8761315 | 2.586214e-12 |\n",
       "| LbrM.01.0700                        | 0.7315042 | 4.017767e-07 | MMblue | 0.9254298 | 6.842961e-16 |\n",
       "| LbrM.01.0750                        | 0.9476631 | 1.979094e-18 | MMblue | 0.8559684 | 2.855820e-11 |\n",
       "| LbrM.01.0770                        | 0.9844574 | 2.852466e-27 | MMblue | 0.9427748 | 8.695115e-18 |\n",
       "| LbrM.01.0780:pseudogenic_transcript | 0.9316495 | 1.634268e-16 | MMblue | 0.9566453 | 8.638996e-20 |\n",
       "| LbrM.02.0110                        | 0.7025627 | 1.783033e-06 | MMblue | 0.8968382 | 1.360621e-13 |\n",
       "| LbrM.02.0120                        | 0.8239594 | 6.671729e-10 | MMblue | 0.8922619 | 2.744328e-13 |\n",
       "| ⋮ | ⋮ | ⋮ | ⋮ | ⋮ | ⋮ |\n",
       "| ncRNA13390 | 0.8754572 | 2.821028e-12 | MMblue      | 0.8971089 | 1.303995e-13 |\n",
       "| ncRNA13412 | 0.9393124 | 2.297838e-17 | MMblue      | 0.8877838 | 5.292287e-13 |\n",
       "| ncRNA13414 | 0.9272765 | 4.532832e-16 | MMblue      | 0.8786812 | 1.853365e-12 |\n",
       "| ncRNA13581 | 0.8397677 | 1.533403e-10 | MMblue      | 0.8552331 | 3.095602e-11 |\n",
       "| ncRNA13592 | 0.8722156 | 4.254397e-12 | MMblue      | 0.8508308 | 4.971126e-11 |\n",
       "| ncRNA13731 | 0.8824818 | 1.112101e-12 | MMblue      | 0.9001954 | 7.961885e-14 |\n",
       "| ncRNA13736 | 0.8678947 | 7.232771e-12 | MMblue      | 0.8665004 | 8.549784e-12 |\n",
       "| ncRNA13793 | 0.9231312 | 1.126098e-15 | MMblue      | 0.9470302 | 2.415942e-18 |\n",
       "| ncRNA13871 | 0.8730308 | 3.840828e-12 | MMblue      | 0.9125869 | 9.219454e-15 |\n",
       "| ncRNA13875 | 0.9091272 | 1.735604e-14 | MMblue      | 0.9524804 | 3.978618e-19 |\n",
       "| ncRNA14321 | 0.8199887 | 9.435438e-10 | MMblue      | 0.8920255 | 2.843185e-13 |\n",
       "| ncRNA14324 | 0.7980768 | 5.549202e-09 | MMblue      | 0.8597719 | 1.868402e-11 |\n",
       "| ncRNA14589 | 0.8094652 | 2.272911e-09 | MMblue      | 0.9072617 | 2.415995e-14 |\n",
       "| ncRNA14590 | 0.8564353 | 2.712672e-11 | MMblue      | 0.9175721 | 3.533216e-15 |\n",
       "| ncRNA14591 | 0.8617223 | 1.495859e-11 | MMblue      | 0.8647822 | 1.048022e-11 |\n",
       "| ncRNA14701 | 0.9022451 | 5.686629e-14 | MMblue      | 0.9824888 | 2.133950e-26 |\n",
       "| ncRNA15027 | 0.8679901 | 7.149926e-12 | MMblue      | 0.9066473 | 2.689983e-14 |\n",
       "| ncRNA15215 | 0.8813522 | 1.296756e-12 | MMblue      | 0.8998850 | 8.373021e-14 |\n",
       "| ncRNA15793 | 0.9379391 | 3.325719e-17 | MMblue      | 0.9213944 | 1.624177e-15 |\n",
       "| ncRNA16125 | 0.8238250 | 6.751424e-10 | MMblue      | 0.8810792 | 1.345505e-12 |\n",
       "| ncRNA16126 | 0.9504475 | 7.983610e-19 | MMblue      | 0.8928454 | 2.513938e-13 |\n",
       "| ncRNA16400 | 0.7949102 | 7.041837e-09 | MMblue      | 0.8742286 | 3.300728e-12 |\n",
       "| ncRNA16699 | 0.8338552 | 2.705554e-10 | MMblue      | 0.8902921 | 3.676274e-13 |\n",
       "| ncRNA18337 | 0.7441580 | 1.970457e-07 | MMroyalblue | 0.9070618 | 2.502126e-14 |\n",
       "| ncRNA18386 | 0.7821103 | 1.771277e-08 | MMblue      | 0.8649167 | 1.031566e-11 |\n",
       "| ncRNA18584 | 0.7828208 | 1.685600e-08 | MMblue      | 0.8553466 | 3.057400e-11 |\n",
       "| ncRNA19658 | 0.7642397 | 5.821479e-08 | MMblue      | 0.8793979 | 1.685393e-12 |\n",
       "| ncRNA19783 | 0.8102429 | 2.133911e-09 | MMblue      | 0.8603878 | 1.742318e-11 |\n",
       "| ncRNA19928 | 0.7297759 | 4.414844e-07 | MMblue      | 0.8665418 | 8.507665e-12 |\n",
       "| ncRNA20118 | 0.8333131 | 2.846972e-10 | MMblue      | 0.8988251 | 9.930882e-14 |\n",
       "\n"
      ],
      "text/plain": [
       "     geneid                              GS.Amastigote p.GS.Amastigote\n",
       "1    LbrM.01.0010                        0.8702906     5.401656e-12   \n",
       "2    LbrM.01.0030                        0.9757341     5.192608e-24   \n",
       "3    LbrM.01.0040                        0.7869909     1.255301e-08   \n",
       "4    LbrM.01.0080                        0.9192135     2.542495e-15   \n",
       "5    LbrM.01.0110                        0.9321607     1.444215e-16   \n",
       "6    LbrM.01.0120                        0.8844931     8.426758e-13   \n",
       "7    LbrM.01.0150                        0.8819737     1.191891e-12   \n",
       "8    LbrM.01.0170                        0.9215511     1.571910e-15   \n",
       "9    LbrM.01.0200                        0.9433696     7.313685e-18   \n",
       "10   LbrM.01.0210                        0.9821781     2.870993e-26   \n",
       "11   LbrM.01.0270                        0.9214382     1.609395e-15   \n",
       "12   LbrM.01.0280                        0.9334989     1.040082e-16   \n",
       "13   LbrM.01.0390                        0.7587558     8.216158e-08   \n",
       "14   LbrM.01.0450                        0.8732308     3.745234e-12   \n",
       "15   LbrM.01.0480                        0.8958414     1.589668e-13   \n",
       "16   LbrM.01.0550                        0.8587198     2.103663e-11   \n",
       "17   LbrM.01.0580                        0.9208446     1.820631e-15   \n",
       "18   LbrM.01.0610                        0.7467986     1.689434e-07   \n",
       "19   LbrM.01.0630                        0.9095037     1.622139e-14   \n",
       "20   LbrM.01.0640                        0.8821026     1.171164e-12   \n",
       "21   LbrM.01.0660                        0.9799453     2.099313e-25   \n",
       "22   LbrM.01.0670                        0.7963375     6.328184e-09   \n",
       "23   LbrM.01.0680                        0.9140582     6.988734e-15   \n",
       "24   LbrM.01.0690                        0.7478727     1.586077e-07   \n",
       "25   LbrM.01.0700                        0.7315042     4.017767e-07   \n",
       "26   LbrM.01.0750                        0.9476631     1.979094e-18   \n",
       "27   LbrM.01.0770                        0.9844574     2.852466e-27   \n",
       "28   LbrM.01.0780:pseudogenic_transcript 0.9316495     1.634268e-16   \n",
       "29   LbrM.02.0110                        0.7025627     1.783033e-06   \n",
       "30   LbrM.02.0120                        0.8239594     6.671729e-10   \n",
       "⋮    ⋮                                   ⋮             ⋮              \n",
       "1041 ncRNA13390                          0.8754572     2.821028e-12   \n",
       "1042 ncRNA13412                          0.9393124     2.297838e-17   \n",
       "1043 ncRNA13414                          0.9272765     4.532832e-16   \n",
       "1044 ncRNA13581                          0.8397677     1.533403e-10   \n",
       "1045 ncRNA13592                          0.8722156     4.254397e-12   \n",
       "1046 ncRNA13731                          0.8824818     1.112101e-12   \n",
       "1047 ncRNA13736                          0.8678947     7.232771e-12   \n",
       "1048 ncRNA13793                          0.9231312     1.126098e-15   \n",
       "1049 ncRNA13871                          0.8730308     3.840828e-12   \n",
       "1050 ncRNA13875                          0.9091272     1.735604e-14   \n",
       "1051 ncRNA14321                          0.8199887     9.435438e-10   \n",
       "1052 ncRNA14324                          0.7980768     5.549202e-09   \n",
       "1053 ncRNA14589                          0.8094652     2.272911e-09   \n",
       "1054 ncRNA14590                          0.8564353     2.712672e-11   \n",
       "1055 ncRNA14591                          0.8617223     1.495859e-11   \n",
       "1056 ncRNA14701                          0.9022451     5.686629e-14   \n",
       "1057 ncRNA15027                          0.8679901     7.149926e-12   \n",
       "1058 ncRNA15215                          0.8813522     1.296756e-12   \n",
       "1059 ncRNA15793                          0.9379391     3.325719e-17   \n",
       "1060 ncRNA16125                          0.8238250     6.751424e-10   \n",
       "1061 ncRNA16126                          0.9504475     7.983610e-19   \n",
       "1062 ncRNA16400                          0.7949102     7.041837e-09   \n",
       "1063 ncRNA16699                          0.8338552     2.705554e-10   \n",
       "1064 ncRNA18337                          0.7441580     1.970457e-07   \n",
       "1065 ncRNA18386                          0.7821103     1.771277e-08   \n",
       "1066 ncRNA18584                          0.7828208     1.685600e-08   \n",
       "1067 ncRNA19658                          0.7642397     5.821479e-08   \n",
       "1068 ncRNA19783                          0.8102429     2.133911e-09   \n",
       "1069 ncRNA19928                          0.7297759     4.414844e-07   \n",
       "1070 ncRNA20118                          0.8333131     2.846972e-10   \n",
       "     module      mm        p_mm        \n",
       "1    MMblue      0.9755543 5.879095e-24\n",
       "2    MMblue      0.9542145 2.143286e-19\n",
       "3    MMblue      0.8982812 1.083191e-13\n",
       "4    MMblue      0.9871573 1.136116e-28\n",
       "5    MMblue      0.8901305 3.764553e-13\n",
       "6    MMblue      0.8515175 4.621702e-11\n",
       "7    MMblue      0.8716156 4.584949e-12\n",
       "8    MMblue      0.8888010 4.570159e-13\n",
       "9    MMblue      0.9078005 2.197484e-14\n",
       "10   MMblue      0.9217828 1.497556e-15\n",
       "11   MMblue      0.9739769 1.681562e-23\n",
       "12   MMblue      0.9094716 1.631552e-14\n",
       "13   MMblue      0.9164696 4.390405e-15\n",
       "14   MMblue      0.9621860 8.819822e-21\n",
       "15   MMblue      0.9493477 1.149691e-18\n",
       "16   MMblue      0.9808395 9.734031e-26\n",
       "17   MMblue      0.8624545 1.374829e-11\n",
       "18   MMblue      0.9356806 6.000158e-17\n",
       "19   MMblue      0.9711712 9.383369e-23\n",
       "20   MMblue      0.8591072 2.014004e-11\n",
       "21   MMblue      0.9419290 1.108535e-17\n",
       "22   MMblue      0.9516099 5.380818e-19\n",
       "23   MMblue      0.9344438 8.215022e-17\n",
       "24   MMblue      0.8761315 2.586214e-12\n",
       "25   MMblue      0.9254298 6.842961e-16\n",
       "26   MMblue      0.8559684 2.855820e-11\n",
       "27   MMblue      0.9427748 8.695115e-18\n",
       "28   MMblue      0.9566453 8.638996e-20\n",
       "29   MMblue      0.8968382 1.360621e-13\n",
       "30   MMblue      0.8922619 2.744328e-13\n",
       "⋮    ⋮           ⋮         ⋮           \n",
       "1041 MMblue      0.8971089 1.303995e-13\n",
       "1042 MMblue      0.8877838 5.292287e-13\n",
       "1043 MMblue      0.8786812 1.853365e-12\n",
       "1044 MMblue      0.8552331 3.095602e-11\n",
       "1045 MMblue      0.8508308 4.971126e-11\n",
       "1046 MMblue      0.9001954 7.961885e-14\n",
       "1047 MMblue      0.8665004 8.549784e-12\n",
       "1048 MMblue      0.9470302 2.415942e-18\n",
       "1049 MMblue      0.9125869 9.219454e-15\n",
       "1050 MMblue      0.9524804 3.978618e-19\n",
       "1051 MMblue      0.8920255 2.843185e-13\n",
       "1052 MMblue      0.8597719 1.868402e-11\n",
       "1053 MMblue      0.9072617 2.415995e-14\n",
       "1054 MMblue      0.9175721 3.533216e-15\n",
       "1055 MMblue      0.8647822 1.048022e-11\n",
       "1056 MMblue      0.9824888 2.133950e-26\n",
       "1057 MMblue      0.9066473 2.689983e-14\n",
       "1058 MMblue      0.8998850 8.373021e-14\n",
       "1059 MMblue      0.9213944 1.624177e-15\n",
       "1060 MMblue      0.8810792 1.345505e-12\n",
       "1061 MMblue      0.8928454 2.513938e-13\n",
       "1062 MMblue      0.8742286 3.300728e-12\n",
       "1063 MMblue      0.8902921 3.676274e-13\n",
       "1064 MMroyalblue 0.9070618 2.502126e-14\n",
       "1065 MMblue      0.8649167 1.031566e-11\n",
       "1066 MMblue      0.8553466 3.057400e-11\n",
       "1067 MMblue      0.8793979 1.685393e-12\n",
       "1068 MMblue      0.8603878 1.742318e-11\n",
       "1069 MMblue      0.8665418 8.507665e-12\n",
       "1070 MMblue      0.8988251 9.930882e-14"
      ]
     },
     "metadata": {},
     "output_type": "display_data"
    }
   ],
   "source": [
    "ama_genes"
   ]
  },
  {
   "cell_type": "code",
   "execution_count": 22,
   "id": "8f4d0d2c-d951-4406-a6c3-d6d3f6dd5781",
   "metadata": {},
   "outputs": [],
   "source": [
    "#guardar\n",
    "write.table(ama_genes, \"amastigote_genes_filtrados.tsv\",sep = '\\t',row.names = FALSE,quote = FALSE)"
   ]
  },
  {
   "cell_type": "code",
   "execution_count": 23,
   "id": "abea0545-d568-4f6c-aefc-bd85928d5375",
   "metadata": {},
   "outputs": [
    {
     "data": {
      "text/html": [
       "320"
      ],
      "text/latex": [
       "320"
      ],
      "text/markdown": [
       "320"
      ],
      "text/plain": [
       "[1] 320"
      ]
     },
     "metadata": {},
     "output_type": "display_data"
    }
   ],
   "source": [
    "#GS metacyclic\n",
    "gs_meta <- read.delim(\"geneTraitSignificance_metacyclic.csv\", sep = '\\t', header=TRUE)\n",
    "gsp_meta <- read.delim(\"GeneSignificancePvalue_metacyclic.csv\", sep = '\\t', header=TRUE)\n",
    "gs_meta$geneid<-rownames(gs_meta)\n",
    "gsp_meta$geneid<-rownames(gsp_meta)\n",
    "merged_gs_meta <- merge(gs_meta,gsp_meta, by = \"geneid\")\n",
    "filtered_meta<-subset(merged_gs_meta, GS.Metacyclic >= 0.7 & p.GS.Metacyclic < 0.01)\n",
    "meta_genes <- merge(filtered_meta,filtered_mm, by = \"geneid\")\n",
    "write.table(meta_genes, \"metacyclic_genes_filtrados.tsv\",sep = '\\t',row.names = FALSE,quote = FALSE)\n",
    "#6columnas\n",
    "length(meta_genes$geneid)"
   ]
  },
  {
   "cell_type": "code",
   "execution_count": 24,
   "id": "d756aac2-40d8-4a6e-abfe-872e733aa615",
   "metadata": {},
   "outputs": [
    {
     "data": {
      "text/html": [
       "1467"
      ],
      "text/latex": [
       "1467"
      ],
      "text/markdown": [
       "1467"
      ],
      "text/plain": [
       "[1] 1467"
      ]
     },
     "metadata": {},
     "output_type": "display_data"
    }
   ],
   "source": [
    "#GS procyclic\n",
    "gs_pro <- read.delim(\"geneTraitSignificance_procyclic.csv\", sep = '\\t', header=TRUE)\n",
    "gsp_pro <- read.delim(\"GeneSignificancePvalue_procyclic.csv\", sep = '\\t', header=TRUE)\n",
    "gs_pro$geneid<-rownames(gs_pro)\n",
    "gsp_pro$geneid<-rownames(gsp_pro)\n",
    "merged_gs_pro <- merge(gs_pro,gsp_pro, by = \"geneid\")\n",
    "filtered_pro<-subset(merged_gs_pro, GS.Procyclic >= 0.7 & p.GS.Procyclic < 0.01)\n",
    "pro_genes <- merge(filtered_pro,filtered_mm, by = \"geneid\")\n",
    "write.table(pro_genes, \"Procyclic_genes_filtrados.tsv\",sep = '\\t',row.names = FALSE,quote = FALSE)\n",
    "#6columnas\n",
    "length(pro_genes$geneid)"
   ]
  }
 ],
 "metadata": {
  "kernelspec": {
   "display_name": "R",
   "language": "R",
   "name": "ir"
  },
  "language_info": {
   "codemirror_mode": "r",
   "file_extension": ".r",
   "mimetype": "text/x-r-source",
   "name": "R",
   "pygments_lexer": "r",
   "version": "4.4.1"
  }
 },
 "nbformat": 4,
 "nbformat_minor": 5
}
